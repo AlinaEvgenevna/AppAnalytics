{
 "cells": [
  {
   "cell_type": "markdown",
   "id": "77ccd4d7-cd7b-46e1-9203-6bad144126f5",
   "metadata": {},
   "source": [
    "# Новая метрика вместо CTR - linearized likes\n",
    "Цель использования новой метрики:\n",
    "увеличить чувствительность нашей метрики."
   ]
  },
  {
   "cell_type": "code",
   "execution_count": 22,
   "id": "63350536-2282-44c9-a2d8-6015c8b0f4a7",
   "metadata": {},
   "outputs": [],
   "source": [
    "import pandas as pd\n",
    "import pandahouse as ph\n",
    "import numpy as np\n",
    "\n",
    "import matplotlib.pyplot as plt\n",
    "import seaborn as sns\n",
    "\n",
    "from scipy.stats import ttest_ind\n",
    "\n",
    "connection = {'host': '***',\n",
    "                      'database':'***',\n",
    "                      'user':'***', \n",
    "                      'password':'***'\n",
    "                     }"
   ]
  },
  {
   "cell_type": "code",
   "execution_count": 7,
   "id": "46203f3f-3f98-4815-87fd-80971eb5ca02",
   "metadata": {},
   "outputs": [
    {
     "data": {
      "text/html": [
       "<div>\n",
       "<style scoped>\n",
       "    .dataframe tbody tr th:only-of-type {\n",
       "        vertical-align: middle;\n",
       "    }\n",
       "\n",
       "    .dataframe tbody tr th {\n",
       "        vertical-align: top;\n",
       "    }\n",
       "\n",
       "    .dataframe thead th {\n",
       "        text-align: right;\n",
       "    }\n",
       "</style>\n",
       "<table border=\"1\" class=\"dataframe\">\n",
       "  <thead>\n",
       "    <tr style=\"text-align: right;\">\n",
       "      <th></th>\n",
       "      <th>exp_group</th>\n",
       "      <th>user_id</th>\n",
       "      <th>likes</th>\n",
       "      <th>views</th>\n",
       "    </tr>\n",
       "  </thead>\n",
       "  <tbody>\n",
       "    <tr>\n",
       "      <th>0</th>\n",
       "      <td>3</td>\n",
       "      <td>115383</td>\n",
       "      <td>9</td>\n",
       "      <td>30</td>\n",
       "    </tr>\n",
       "    <tr>\n",
       "      <th>1</th>\n",
       "      <td>1</td>\n",
       "      <td>18392</td>\n",
       "      <td>7</td>\n",
       "      <td>32</td>\n",
       "    </tr>\n",
       "    <tr>\n",
       "      <th>2</th>\n",
       "      <td>3</td>\n",
       "      <td>123580</td>\n",
       "      <td>13</td>\n",
       "      <td>48</td>\n",
       "    </tr>\n",
       "    <tr>\n",
       "      <th>3</th>\n",
       "      <td>2</td>\n",
       "      <td>131473</td>\n",
       "      <td>14</td>\n",
       "      <td>134</td>\n",
       "    </tr>\n",
       "    <tr>\n",
       "      <th>4</th>\n",
       "      <td>4</td>\n",
       "      <td>107323</td>\n",
       "      <td>5</td>\n",
       "      <td>31</td>\n",
       "    </tr>\n",
       "  </tbody>\n",
       "</table>\n",
       "</div>"
      ],
      "text/plain": [
       "   exp_group  user_id  likes  views\n",
       "0          3   115383      9     30\n",
       "1          1    18392      7     32\n",
       "2          3   123580     13     48\n",
       "3          2   131473     14    134\n",
       "4          4   107323      5     31"
      ]
     },
     "execution_count": 7,
     "metadata": {},
     "output_type": "execute_result"
    }
   ],
   "source": [
    "q = \"\"\"\n",
    "SELECT exp_group, \n",
    "    user_id,\n",
    "    sum(action = 'like') AS likes,\n",
    "    sum(action = 'view') AS views\n",
    "FROM {db}.feed_actions \n",
    "WHERE toDate(time) between '2023-05-31' AND '2023-06-06'\n",
    "GROUP BY exp_group, user_id\n",
    "\"\"\"\n",
    "\n",
    "df = ph.read_clickhouse(q, connection=connection)\n",
    "\n",
    "df.head()"
   ]
  },
  {
   "cell_type": "code",
   "execution_count": 8,
   "id": "7e73bf3f-8a7f-4ff5-b0a7-5344e2ec3f02",
   "metadata": {},
   "outputs": [
    {
     "data": {
      "text/plain": [
       "0.20950954969876226"
      ]
     },
     "execution_count": 8,
     "metadata": {},
     "output_type": "execute_result"
    }
   ],
   "source": [
    "CTRcontrol = sum(df['likes'])/sum(df['views'])\n",
    "CTRcontrol"
   ]
  },
  {
   "cell_type": "code",
   "execution_count": 9,
   "id": "b56bff75-31a2-4923-8cba-016cb484a68e",
   "metadata": {},
   "outputs": [
    {
     "data": {
      "text/html": [
       "<div>\n",
       "<style scoped>\n",
       "    .dataframe tbody tr th:only-of-type {\n",
       "        vertical-align: middle;\n",
       "    }\n",
       "\n",
       "    .dataframe tbody tr th {\n",
       "        vertical-align: top;\n",
       "    }\n",
       "\n",
       "    .dataframe thead th {\n",
       "        text-align: right;\n",
       "    }\n",
       "</style>\n",
       "<table border=\"1\" class=\"dataframe\">\n",
       "  <thead>\n",
       "    <tr style=\"text-align: right;\">\n",
       "      <th></th>\n",
       "      <th>exp_group</th>\n",
       "      <th>user_id</th>\n",
       "      <th>likes</th>\n",
       "      <th>views</th>\n",
       "      <th>linearized_likes</th>\n",
       "    </tr>\n",
       "  </thead>\n",
       "  <tbody>\n",
       "    <tr>\n",
       "      <th>0</th>\n",
       "      <td>3</td>\n",
       "      <td>115383</td>\n",
       "      <td>9</td>\n",
       "      <td>30</td>\n",
       "      <td>2.714714</td>\n",
       "    </tr>\n",
       "    <tr>\n",
       "      <th>1</th>\n",
       "      <td>1</td>\n",
       "      <td>18392</td>\n",
       "      <td>7</td>\n",
       "      <td>32</td>\n",
       "      <td>0.295694</td>\n",
       "    </tr>\n",
       "    <tr>\n",
       "      <th>2</th>\n",
       "      <td>3</td>\n",
       "      <td>123580</td>\n",
       "      <td>13</td>\n",
       "      <td>48</td>\n",
       "      <td>2.943542</td>\n",
       "    </tr>\n",
       "    <tr>\n",
       "      <th>3</th>\n",
       "      <td>2</td>\n",
       "      <td>131473</td>\n",
       "      <td>14</td>\n",
       "      <td>134</td>\n",
       "      <td>-14.074280</td>\n",
       "    </tr>\n",
       "    <tr>\n",
       "      <th>4</th>\n",
       "      <td>4</td>\n",
       "      <td>107323</td>\n",
       "      <td>5</td>\n",
       "      <td>31</td>\n",
       "      <td>-1.494796</td>\n",
       "    </tr>\n",
       "  </tbody>\n",
       "</table>\n",
       "</div>"
      ],
      "text/plain": [
       "   exp_group  user_id  likes  views  linearized_likes\n",
       "0          3   115383      9     30          2.714714\n",
       "1          1    18392      7     32          0.295694\n",
       "2          3   123580     13     48          2.943542\n",
       "3          2   131473     14    134        -14.074280\n",
       "4          4   107323      5     31         -1.494796"
      ]
     },
     "execution_count": 9,
     "metadata": {},
     "output_type": "execute_result"
    }
   ],
   "source": [
    "df['linearized_likes'] = df['likes'] - CTRcontrol * df['views']\n",
    "df.head()"
   ]
  },
  {
   "cell_type": "code",
   "execution_count": 19,
   "id": "e7bde070-5b41-46d2-8bdb-00feaecdb323",
   "metadata": {},
   "outputs": [],
   "source": [
    "group1 = df[df.exp_group == 1].linearized_likes\n",
    "group2 = df[df.exp_group == 2].linearized_likes\n",
    "\n",
    "group0 = df[df.exp_group == 0].linearized_likes\n",
    "group3 = df[df.exp_group == 3].linearized_likes"
   ]
  },
  {
   "cell_type": "markdown",
   "id": "d4b55ef2-9b9c-4052-b110-aad5e1a8771b",
   "metadata": {},
   "source": [
    "##  Группы 1 и 2"
   ]
  },
  {
   "cell_type": "code",
   "execution_count": 16,
   "id": "66cd34ad-d1ca-4538-8b75-35147b618302",
   "metadata": {},
   "outputs": [
    {
     "data": {
      "text/plain": [
       "<matplotlib.legend.Legend at 0x7f89a0d06d60>"
      ]
     },
     "execution_count": 16,
     "metadata": {},
     "output_type": "execute_result"
    },
    {
     "data": {
      "image/png": "[encoded data removed]",
      "text/plain": [
       "<Figure size 432x288 with 1 Axes>"
      ]
     },
     "metadata": {
      "needs_background": "light"
     },
     "output_type": "display_data"
    }
   ],
   "source": [
    "sns.histplot(group1, label='group 1', alpha=0.5)\n",
    "sns.histplot(group2, label='group 2', alpha=0.5)\n",
    "plt.axvline(x=group1.mean(), color='blue')\n",
    "plt.axvline(x=group2.mean(), color='red')\n",
    "plt.legend()"
   ]
  },
  {
   "cell_type": "code",
   "execution_count": 17,
   "id": "3f6666a0-c7a2-485d-9b19-7f745f34455b",
   "metadata": {},
   "outputs": [
    {
     "name": "stdout",
     "output_type": "stream",
     "text": [
      "p-value is 1.022347621361936e-09\n",
      "Мы можем отклонить нулевую гипотезу о равенстве linearized likes в группах 1 и 2\n"
     ]
    }
   ],
   "source": [
    "alpha=0.05\n",
    "t, p_value = ttest_ind(group1,group2, equal_var=False)\n",
    "print('p-value is', p_value)\n",
    "if p_value <= alpha:\n",
    "    print('Мы можем отклонить нулевую гипотезу о равенстве linearized likes в группах 1 и 2')\n",
    "else:\n",
    "    print('У нас недостаточно оснований, чтобы отклонить нулевую гипотезу')"
   ]
  },
  {
   "cell_type": "markdown",
   "id": "9424c3f8-c338-43f8-a13c-2a944e421d76",
   "metadata": {},
   "source": [
    "1. Распределения уже больше похожи на нормальные, нет явной бимодальности.\n",
    "2. Снова метрика в группе 2 отличается бОльшим разбросом в обе стороны. Отличия очень заметны визуально,\n",
    "3. p-value стало достаточно низким, чтобы отклонить нулевую гипотезу."
   ]
  },
  {
   "cell_type": "markdown",
   "id": "93d144f6-0ec6-4e77-800e-c03fe867aa30",
   "metadata": {},
   "source": [
    "## Группы 0 и 3"
   ]
  },
  {
   "cell_type": "code",
   "execution_count": 20,
   "id": "93538101-2661-4339-a38c-42c70414c8b1",
   "metadata": {},
   "outputs": [
    {
     "data": {
      "text/plain": [
       "<matplotlib.legend.Legend at 0x7f89a0ab5c40>"
      ]
     },
     "execution_count": 20,
     "metadata": {},
     "output_type": "execute_result"
    },
    {
     "data": {
      "image/png": "[encoded data removed]",
      "text/plain": [
       "<Figure size 432x288 with 1 Axes>"
      ]
     },
     "metadata": {
      "needs_background": "light"
     },
     "output_type": "display_data"
    }
   ],
   "source": [
    "sns.histplot(group0, label='group 0', alpha=0.5)\n",
    "sns.histplot(group3, label='group 3', alpha=0.5)\n",
    "plt.axvline(x=group0.mean(), color='blue')\n",
    "plt.axvline(x=group3.mean(), color='red')\n",
    "plt.legend()"
   ]
  },
  {
   "cell_type": "code",
   "execution_count": 21,
   "id": "f5e5900a-f16f-4418-b2a4-60bc5850e618",
   "metadata": {},
   "outputs": [
    {
     "name": "stdout",
     "output_type": "stream",
     "text": [
      "p-value is 6.414519106059481e-52\n",
      "Мы можем отклонить нулевую гипотезу о равенстве linearized likes в группах 0 и 3\n"
     ]
    }
   ],
   "source": [
    "t, p_value = ttest_ind(group0,group3, equal_var=False)\n",
    "print('p-value is', p_value)\n",
    "if p_value <= alpha:\n",
    "    print('Мы можем отклонить нулевую гипотезу о равенстве linearized likes в группах 0 и 3')\n",
    "else:\n",
    "    print('У нас недостаточно оснований, чтобы отклонить нулевую гипотезу')"
   ]
  },
  {
   "cell_type": "markdown",
   "id": "c05cc1a9-6744-49d3-9818-940059fb576c",
   "metadata": {},
   "source": [
    "1. Распределения выглядят похоже, но распределение группы 3 смещено немного правее.\n",
    "2. Как и в случае с CTR, p-value для linearized likes намного меньше нашего уровня значимости."
   ]
  },
  {
   "cell_type": "code",
   "execution_count": null,
   "id": "11ef7ef1-c6fb-40a3-b834-044f71080ec7",
   "metadata": {},
   "outputs": [],
   "source": []
  }
 ],
 "metadata": {
  "kernelspec": {
   "display_name": "Python 3 (ipykernel)",
   "language": "python",
   "name": "python3"
  },
  "language_info": {
   "codemirror_mode": {
    "name": "ipython",
    "version": 3
   },
   "file_extension": ".py",
   "mimetype": "text/x-python",
   "name": "python",
   "nbconvert_exporter": "python",
   "pygments_lexer": "ipython3",
   "version": "3.8.10"
  }
 },
 "nbformat": 4,
 "nbformat_minor": 5
}
