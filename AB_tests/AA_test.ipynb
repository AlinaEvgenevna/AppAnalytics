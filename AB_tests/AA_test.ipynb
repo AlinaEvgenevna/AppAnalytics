{
 "cells": [
  {
   "cell_type": "markdown",
   "id": "dfe6140b-131b-4ae7-b44f-28d17bd9c977",
   "metadata": {},
   "source": [
    "# A/A Test\n",
    "\n",
    " **Цель:**\n",
    "    \n",
    "    убедиться в том, что наша система сплитования работает корректно, \n",
    "    и ключевая метрика не отличается между группами не только в конкретно нашем А/А-тесте, \n",
    "    но и в целом."
   ]
  },
  {
   "cell_type": "code",
   "execution_count": 1,
   "id": "753affbe-1430-4332-972f-7ef2bf2b70a9",
   "metadata": {},
   "outputs": [],
   "source": [
    "import pandas as pd\n",
    "import pandahouse as ph\n",
    "import numpy as np\n",
    "\n",
    "import matplotlib.pyplot as plt\n",
    "import seaborn as sns\n",
    "\n",
    "from scipy.stats import ttest_ind\n",
    "\n",
    "connection = {'host': '***',\n",
    "                      'database':'***',\n",
    "                      'user':'***', \n",
    "                      'password':'***'\n",
    "                     }"
   ]
  },
  {
   "cell_type": "markdown",
   "id": "9060f3af-756c-406c-ad7b-9d44bd095cd0",
   "metadata": {},
   "source": [
    "## 1. Выбрать данные по датам проведения A/A теста"
   ]
  },
  {
   "cell_type": "code",
   "execution_count": 2,
   "id": "b5ada871-da15-4ff1-8b39-950d62781e6b",
   "metadata": {},
   "outputs": [
    {
     "data": {
      "text/plain": [
       "exp_group\n",
       "3    8569\n",
       "2    8480\n",
       "Name: count, dtype: int64"
      ]
     },
     "execution_count": 2,
     "metadata": {},
     "output_type": "execute_result"
    }
   ],
   "source": [
    "q = \"\"\"\n",
    "SELECT exp_group, \n",
    "    user_id,\n",
    "    sum(action = 'like') AS likes,\n",
    "    sum(action = 'view') AS views,\n",
    "    likes/views as ctr\n",
    "FROM {db}.feed_actions \n",
    "WHERE toDate(time) between '2023-05-24' AND '2023-05-30'\n",
    "    AND exp_group IN (2,3)\n",
    "GROUP BY exp_group, user_id\n",
    "\"\"\"\n",
    "\n",
    "df = ph.read_clickhouse(q, connection=connection)\n",
    "\n",
    "df.exp_group.value_counts()"
   ]
  },
  {
   "cell_type": "code",
   "execution_count": 38,
   "id": "732ca92c-f686-4f89-936e-fd9319b8863a",
   "metadata": {},
   "outputs": [
    {
     "data": {
      "image/png": "[encoded data removed]",
      "text/plain": [
       "<Figure size 432x288 with 1 Axes>"
      ]
     },
     "metadata": {
      "needs_background": "light"
     },
     "output_type": "display_data"
    }
   ],
   "source": [
    "#sns.set(rc={'figure.figsize':(11.7,8.27)})\n",
    "\n",
    "groups = sns.histplot(data = df, \n",
    "              x='ctr', \n",
    "              hue='exp_group',\n",
    "              palette = ['r', 'b'],\n",
    "              alpha=0.5,\n",
    "              kde=False)"
   ]
  },
  {
   "cell_type": "markdown",
   "id": "4003fe90-9d17-440e-986d-49f4b38a8a3f",
   "metadata": {},
   "source": [
    "Два распределения кажутся одинаковыми с незначительными различиями, которые кажутся рандомным отклонением."
   ]
  },
  {
   "cell_type": "markdown",
   "id": "0b35d578-50bf-401d-be3c-f5fc8c86154c",
   "metadata": {},
   "source": [
    "## 2. Симуляция 10000 A/A тестов\n",
    "\n",
    "1. ПсевдоГипотеза\n",
    "   *   Нулевая гипотеза **Hₒ: mean2  = mean3** .\n",
    "   *   Альтернативная гипотеза **Hₐ: mean2 ≠ mean3**\n",
    "2. Тест - Welch's t-test (equal_var = False)\n",
    "3. alternative='two-sided' (by default)\n",
    "4. alpha = 0.05"
   ]
  },
  {
   "cell_type": "code",
   "execution_count": 50,
   "id": "da4399f3-4562-4dbf-8608-e231fe503647",
   "metadata": {},
   "outputs": [],
   "source": [
    "alpha = 0.05\n",
    "p_values = []\n",
    "for _ in range(10000):\n",
    "    group2 = df[df.exp_group == 2].ctr.sample(500, replace=False).to_list()\n",
    "    group3 = df[df.exp_group == 3].ctr.sample(500, replace=False).to_list()\n",
    "    p_value = ttest_ind(group2,\n",
    "                group3,\n",
    "                equal_var=False)[1]\n",
    "    p_values.append(p_value)"
   ]
  },
  {
   "cell_type": "code",
   "execution_count": 51,
   "id": "c370cf11-17c0-4f7e-8c9b-db5eb9ae77c4",
   "metadata": {},
   "outputs": [
    {
     "data": {
      "text/plain": [
       "[0.215976380068044,\n",
       " 0.23549044894216897,\n",
       " 0.9841762779392511,\n",
       " 0.7043795840824754,\n",
       " 0.502650945091506,\n",
       " 0.5333311695427958,\n",
       " 0.5698187167607339,\n",
       " 0.3821486575420828,\n",
       " 0.9581258367243358,\n",
       " 0.10760792554136903]"
      ]
     },
     "execution_count": 51,
     "metadata": {},
     "output_type": "execute_result"
    }
   ],
   "source": [
    "p_values[:10]"
   ]
  },
  {
   "cell_type": "markdown",
   "id": "bb2b9081-3043-4a30-beb5-4503d0c2dd51",
   "metadata": {},
   "source": [
    "## 3. Анализ полученных p-values"
   ]
  },
  {
   "cell_type": "code",
   "execution_count": 53,
   "id": "474a9eba-d1ab-40bc-ad32-28d68278dad6",
   "metadata": {},
   "outputs": [
    {
     "data": {
      "text/plain": [
       "<matplotlib.legend.Legend at 0x7faaecd19cd0>"
      ]
     },
     "execution_count": 53,
     "metadata": {},
     "output_type": "execute_result"
    },
    {
     "data": {
      "image/png": "[encoded data removed]",
      "text/plain": [
       "<Figure size 432x288 with 1 Axes>"
      ]
     },
     "metadata": {
      "needs_background": "light"
     },
     "output_type": "display_data"
    }
   ],
   "source": [
    "sns.histplot(data = p_values, \n",
    "              alpha=0.5,\n",
    "              kde=False,\n",
    "              bins=20)\n",
    "plt.axhline(y=10000*alpha, color='red', label='expected')\n",
    "plt.legend()"
   ]
  },
  {
   "cell_type": "markdown",
   "id": "541b3573-3811-4dae-a995-03af9307641f",
   "metadata": {},
   "source": [
    "### Гистограмма\n",
    "\n",
    "* Гистограмма для хорошего А/А теста должна быть примерно такой, какой она и получилась выше. \n",
    "* Вероятность определенного значения p-value должна быть примерно равна этому значению.\n"
   ]
  },
  {
   "cell_type": "code",
   "execution_count": 54,
   "id": "89a26a6a-59b7-4e00-818b-9c76644f85bb",
   "metadata": {},
   "outputs": [
    {
     "name": "stdout",
     "output_type": "stream",
     "text": [
      "Из 10000 тестов 468 (4.68%) позволят отклонить нулевую гипотезу и посчитать разницу между группами статистически значимой.\n"
     ]
    }
   ],
   "source": [
    "# <= 0.05 (alpha)\n",
    "\n",
    "null_rejected_percent = (np.sum(np.array(p_values) <= alpha)/len(p_values) )* 100\n",
    "print(f'Из 10000 тестов {round(null_rejected_percent/100*10000)} ({null_rejected_percent}%) позволят отклонить нулевую гипотезу и посчитать разницу между группами статистически значимой.')"
   ]
  },
  {
   "cell_type": "markdown",
   "id": "f7d96f52-cca5-4871-a71d-8c53f8ce4133",
   "metadata": {},
   "source": [
    "## Интерпретация\n",
    "\n",
    "1. Мы знаем, что обе группы - равны, что нулевая гипотеза верна. И большинство А/А тестов не позволяют отклонить нулевую гипотезу.\n",
    "2. Однако чуть меньше 5% все-таки ложно видят статистическую разницу там, где ее на самом деле нет.\n",
    "3. Но именно это число мы и заложили в нашу ошибку первого рода (alpha = 0.05). \n",
    "4. Так что можно считать, что статистически значимые различия между двумя группами встречаются только в результате случайного ложного срабатывания и наша система сплитования работает корректно."
   ]
  },
  {
   "cell_type": "code",
   "execution_count": null,
   "id": "af0773b0-2bfa-493c-aaae-97718bd518c4",
   "metadata": {},
   "outputs": [],
   "source": []
  }
 ],
 "metadata": {
  "kernelspec": {
   "display_name": "Python 3 (ipykernel)",
   "language": "python",
   "name": "python3"
  },
  "language_info": {
   "codemirror_mode": {
    "name": "ipython",
    "version": 3
   },
   "file_extension": ".py",
   "mimetype": "text/x-python",
   "name": "python",
   "nbconvert_exporter": "python",
   "pygments_lexer": "ipython3",
   "version": "3.8.10"
  }
 },
 "nbformat": 4,
 "nbformat_minor": 5
}
