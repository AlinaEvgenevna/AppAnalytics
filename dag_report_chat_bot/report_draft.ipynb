{
 "cells": [
  {
   "cell_type": "markdown",
   "id": "54bdacd4-e25e-4c54-83ec-b4e7c9d09650",
   "metadata": {},
   "source": [
    "# Ежедневый краткий отчет"
   ]
  },
  {
   "cell_type": "code",
   "execution_count": 43,
   "id": "d153aa43-1d6d-44d0-8f96-6e611ac67bfb",
   "metadata": {},
   "outputs": [],
   "source": [
    "import telegram\n",
    "import numpy as np\n",
    "import matplotlib.pyplot as plt\n",
    "import seaborn as sns\n",
    "import io\n",
    "import pandas as pd\n",
    "import pandahouse as ph\n",
    "from datetime import date, datetime, timedelta"
   ]
  },
  {
   "cell_type": "code",
   "execution_count": 2,
   "id": "5027da00-f5d7-41bc-a1a1-fd299e077c3e",
   "metadata": {},
   "outputs": [],
   "source": [
    "connection = {'host': '***',\n",
    "                      '***',\n",
    "                      'user':'***', \n",
    "                      'password':'***'\n",
    "                     }\n"
   ]
  },
  {
   "cell_type": "code",
   "execution_count": 3,
   "id": "13245ddf-4dc2-4edb-bca4-353d3983f90d",
   "metadata": {},
   "outputs": [
    {
     "data": {
      "text/html": [
       "<div>\n",
       "<style scoped>\n",
       "    .dataframe tbody tr th:only-of-type {\n",
       "        vertical-align: middle;\n",
       "    }\n",
       "\n",
       "    .dataframe tbody tr th {\n",
       "        vertical-align: top;\n",
       "    }\n",
       "\n",
       "    .dataframe thead th {\n",
       "        text-align: right;\n",
       "    }\n",
       "</style>\n",
       "<table border=\"1\" class=\"dataframe\">\n",
       "  <thead>\n",
       "    <tr style=\"text-align: right;\">\n",
       "      <th></th>\n",
       "      <th>day</th>\n",
       "      <th>posts</th>\n",
       "      <th>views</th>\n",
       "      <th>likes</th>\n",
       "      <th>ctr</th>\n",
       "      <th>dau</th>\n",
       "    </tr>\n",
       "  </thead>\n",
       "  <tbody>\n",
       "    <tr>\n",
       "      <th>0</th>\n",
       "      <td>2023-07-18</td>\n",
       "      <td>224</td>\n",
       "      <td>617487</td>\n",
       "      <td>124494</td>\n",
       "      <td>0.2016</td>\n",
       "      <td>18585</td>\n",
       "    </tr>\n",
       "    <tr>\n",
       "      <th>1</th>\n",
       "      <td>2023-07-19</td>\n",
       "      <td>230</td>\n",
       "      <td>636338</td>\n",
       "      <td>128885</td>\n",
       "      <td>0.2025</td>\n",
       "      <td>18260</td>\n",
       "    </tr>\n",
       "    <tr>\n",
       "      <th>2</th>\n",
       "      <td>2023-07-20</td>\n",
       "      <td>202</td>\n",
       "      <td>608339</td>\n",
       "      <td>121381</td>\n",
       "      <td>0.1995</td>\n",
       "      <td>18269</td>\n",
       "    </tr>\n",
       "    <tr>\n",
       "      <th>3</th>\n",
       "      <td>2023-07-21</td>\n",
       "      <td>178</td>\n",
       "      <td>529200</td>\n",
       "      <td>107074</td>\n",
       "      <td>0.2023</td>\n",
       "      <td>18641</td>\n",
       "    </tr>\n",
       "    <tr>\n",
       "      <th>4</th>\n",
       "      <td>2023-07-22</td>\n",
       "      <td>196</td>\n",
       "      <td>513026</td>\n",
       "      <td>100781</td>\n",
       "      <td>0.1964</td>\n",
       "      <td>19026</td>\n",
       "    </tr>\n",
       "    <tr>\n",
       "      <th>5</th>\n",
       "      <td>2023-07-23</td>\n",
       "      <td>181</td>\n",
       "      <td>626809</td>\n",
       "      <td>131364</td>\n",
       "      <td>0.2096</td>\n",
       "      <td>18760</td>\n",
       "    </tr>\n",
       "    <tr>\n",
       "      <th>6</th>\n",
       "      <td>2023-07-24</td>\n",
       "      <td>195</td>\n",
       "      <td>604637</td>\n",
       "      <td>128146</td>\n",
       "      <td>0.2119</td>\n",
       "      <td>18885</td>\n",
       "    </tr>\n",
       "    <tr>\n",
       "      <th>7</th>\n",
       "      <td>2023-07-25</td>\n",
       "      <td>233</td>\n",
       "      <td>737226</td>\n",
       "      <td>156523</td>\n",
       "      <td>0.2123</td>\n",
       "      <td>18708</td>\n",
       "    </tr>\n",
       "  </tbody>\n",
       "</table>\n",
       "</div>"
      ],
      "text/plain": [
       "         day  posts   views   likes     ctr    dau\n",
       "0 2023-07-18    224  617487  124494  0.2016  18585\n",
       "1 2023-07-19    230  636338  128885  0.2025  18260\n",
       "2 2023-07-20    202  608339  121381  0.1995  18269\n",
       "3 2023-07-21    178  529200  107074  0.2023  18641\n",
       "4 2023-07-22    196  513026  100781  0.1964  19026\n",
       "5 2023-07-23    181  626809  131364  0.2096  18760\n",
       "6 2023-07-24    195  604637  128146  0.2119  18885\n",
       "7 2023-07-25    233  737226  156523  0.2123  18708"
      ]
     },
     "execution_count": 3,
     "metadata": {},
     "output_type": "execute_result"
    }
   ],
   "source": [
    "query = '''\n",
    "       SELECT toDate(time) as day, \n",
    "              uniq(post_id) as posts,\n",
    "              countIf(action='view') as views, \n",
    "              countIf(action='like') as likes,\n",
    "              round(countIf(action='like') / countIf(action='view'), 4) as ctr,\n",
    "              uniq(user_id) as dau\n",
    "       FROM {db}.feed_actions\n",
    "       WHERE toDate(time) BETWEEN (DATE(NOW()) - INTERVAL 8 DAY) AND (DATE(NOW()) - INTERVAL 1 DAY)\n",
    "       GROUP BY day\n",
    "       \n",
    "        '''\n",
    "df = ph.read_clickhouse(query, connection = connection)\n",
    "df['day'] = pd.to_datetime(df['day'])\n",
    "df = df.astype({'views': int, 'likes': int, 'dau': int, 'posts': int})\n",
    "\n",
    "df"
   ]
  },
  {
   "cell_type": "code",
   "execution_count": 48,
   "id": "54bf801d-89ce-4e21-a5b1-3e21b217044b",
   "metadata": {},
   "outputs": [
    {
     "data": {
      "text/plain": [
       "'ОТЧЕТ за 2023-07-25\\n\\n\\n👫DAU: 18708 (-0.94% ко дню назад, +0.66% к неделе назад)\\n👀Views: 737226 (+21.93% ко дню назад, +19.39% к неделе назад)\\n❤Likes: 156523 (+22.14% ко дню назад, +25.73% к неделе назад)\\n🎯CTR: 0.21 (+0.04% ко дню назад, +1.07% к неделе назад)\\n👤Likes per user: 8.37 (+23.30% ко дню назад, +24.90% к неделе назад)\\n🖼Likes per post: 671.77 (+2.22% ко дню назад, +20.87% к неделе назад)'"
      ]
     },
     "execution_count": 48,
     "metadata": {},
     "output_type": "execute_result"
    }
   ],
   "source": [
    "def get_message(df):\n",
    "    day = pd.to_datetime(date.today() - timedelta(days = 1))\n",
    "    day_before = pd.to_datetime(date.today() - timedelta(days = 2))\n",
    "    week_before = pd.to_datetime(date.today() - timedelta(days = 8))\n",
    "    \n",
    "    dau = df[df.day == day]['dau'].iloc[0]\n",
    "    dau_db = df[df.day == day_before]['dau'].iloc[0]\n",
    "    dau_wb = df[df.day == week_before]['dau'].iloc[0]\n",
    "    to_dau_db = (dau -  dau_db) /  dau_db\n",
    "    to_dau_wb = (dau - dau_wb) / dau_wb\n",
    "    \n",
    "    likes = df[df.day == day]['likes'].iloc[0]\n",
    "    likes_db = df[df.day == day_before]['likes'].iloc[0]\n",
    "    likes_wb = df[df.day == week_before]['likes'].iloc[0]\n",
    "    to_likes_db = (likes - likes_db) / likes_db\n",
    "    to_likes_wb = (likes - likes_wb) / likes_wb\n",
    "    \n",
    "    views = df[df.day == day]['views'].iloc[0]\n",
    "    views_db = df[df.day == day_before]['views'].iloc[0]\n",
    "    views_wb = df[df.day == week_before]['views'].iloc[0]\n",
    "    to_views_db = (views - views_db) / views_db\n",
    "    to_views_wb = (views - views_wb) / views_wb\n",
    "    \n",
    "    ctr = df[df.day == day]['ctr'].iloc[0]\n",
    "    ctr_db = df[df.day == day_before]['ctr'].iloc[0]\n",
    "    ctr_wb = df[df.day == week_before]['ctr'].iloc[0]\n",
    "    to_ctr_db = (ctr - ctr_db ) \n",
    "    to_ctr_wb = (ctr - ctr_wb) \n",
    "\n",
    "    lpu = df[df.day == day]['likes'].iloc[0] / df[df.day == day]['dau'].iloc[0]\n",
    "    lpu_db = df[df.day == day_before]['likes'].iloc[0] / df[df.day == day_before]['dau'].iloc[0]\n",
    "    lpu_wb = df[df.day == week_before]['likes'].iloc[0] / df[df.day == week_before]['dau'].iloc[0]\n",
    "    to_lpu_db = (lpu - lpu_db) / lpu_db\n",
    "    to_lpu_wb = (lpu - lpu_wb) / lpu_wb\n",
    "    \n",
    "    lpp = df[df.day == day]['likes'].iloc[0] / df[df.day == day]['posts'].iloc[0]\n",
    "    lpp_db = df[df.day == day_before]['likes'].iloc[0] / df[df.day == day_before]['posts'].iloc[0]\n",
    "    lpp_wb = df[df.day == week_before]['likes'].iloc[0] / df[df.day == week_before]['posts'].iloc[0]\n",
    "    to_lpp_db = (lpp - lpp_db) / lpp_db\n",
    "    to_lpp_wb = (lpp - lpp_wb) / lpp_wb\n",
    "    \n",
    "    a = f'ОТЧЕТ за {day.date()}'\n",
    "    \n",
    "    b = f'👫DAU: {dau} ({to_dau_db:+.2%} ко дню назад, {to_dau_wb:+.2%} к неделе назад)'\n",
    "    \n",
    "    c = f'👀Views: {views} ({to_views_db:+.2%} ко дню назад, {to_views_wb:+.2%} к неделе назад)'\n",
    "    \n",
    "    d = f'❤Likes: {likes} ({to_likes_db:+.2%} ко дню назад, {to_likes_wb:+.2%} к неделе назад)'\n",
    "    \n",
    "    e = f'🎯CTR: {ctr:.2} ({to_ctr_db:+.2%} ко дню назад, {to_ctr_wb:+.2%} к неделе назад)'\n",
    "    \n",
    "    f = f'👤Likes per user: {lpu:.2f} ({to_lpu_db:+.2%} ко дню назад, {to_lpu_wb:+.2%} к неделе назад)'\n",
    "    \n",
    "    g = f'🖼Likes per post: {lpp:.2f} ({to_lpp_db:+.2%} ко дню назад, {to_lpp_wb:+.2%} к неделе назад)'\n",
    "\n",
    "    message = '\\n'.join([a, '\\n', b, c, d, e, f, g])\n",
    "    \n",
    "    return message\n",
    "    \n",
    "    \n",
    "\n",
    "get_message(df)"
   ]
  },
  {
   "cell_type": "code",
   "execution_count": 50,
   "id": "ab6c0a52-e7f9-4e03-954e-1072b0f101c9",
   "metadata": {},
   "outputs": [
    {
     "data": {
      "image/png": "[encoded data removed]",
      "text/plain": [
       "<Figure size 720x720 with 4 Axes>"
      ]
     },
     "metadata": {
      "needs_background": "light"
     },
     "output_type": "display_data"
    }
   ],
   "source": [
    "yesterday = date.today() - timedelta(days = 1)\n",
    "start = (date.today() - timedelta(days = 7)).strftime(\"%d/%m/%Y\")\n",
    "yesterday_f = yesterday.strftime(\"%d/%m/%Y\")\n",
    "dates = [i.strftime(\"%d/%m/%Y\") for i in pd.to_datetime(df['day'])]\n",
    "\n",
    "fig, (ax1, ax2, ax3, ax4) = plt.subplots(4, 1, figsize=(10,10))\n",
    "sns.lineplot(x=dates, y=df['likes'], ax=ax2)\n",
    "sns.lineplot(x=dates, y=df['views'], ax=ax1)\n",
    "sns.lineplot(x=dates, y=df['ctr']*100, ax=ax3)\n",
    "sns.lineplot(x=dates, y=df['dau'], ax=ax4)\n",
    "\n",
    "ax1.set(xlabel=None)\n",
    "ax2.set(xlabel=None)\n",
    "ax3.set(xlabel=None)\n",
    "\n",
    "ax1.set_ylabel('Views')\n",
    "ax2.set_ylabel('Likes')\n",
    "ax3.set_ylabel('CTR (%)')\n",
    "ax4.set_ylabel('DAU')\n",
    "\n",
    "ax4.set_xlabel('Дата')\n",
    "\n",
    "fig.suptitle(f\"Оновные метрики за {start} - {yesterday_f}\")\n",
    "fig.tight_layout()\n",
    "plt.show()"
   ]
  },
  {
   "cell_type": "code",
   "execution_count": 40,
   "id": "0bcf5d2e-d913-4cdb-b4ea-be7b97e0d2bf",
   "metadata": {},
   "outputs": [
    {
     "data": {
      "text/plain": [
       "<_io.BytesIO at 0x7fed57a9c540>"
      ]
     },
     "execution_count": 40,
     "metadata": {},
     "output_type": "execute_result"
    }
   ],
   "source": [
    "def plot_report(df):\n",
    "    \n",
    "    yesterday = date.today() - timedelta(days = 1)\n",
    "    start = (date.today() - timedelta(days = 7)).strftime(\"%d/%m/%Y\")\n",
    "    yesterday_f = yesterday.strftime(\"%d/%m/%Y\")\n",
    "    dates = [i.strftime(\"%d/%m/%Y\") for i in pd.to_datetime(df['day'])]\n",
    "    \n",
    "    fig, (ax1, ax2, ax3, ax4) = plt.subplots(4, 1, figsize=(10,10))\n",
    "    sns.lineplot(x=dates, y=df['likes'], ax=ax2)\n",
    "    sns.lineplot(x=dates, y=df['views'], ax=ax1)\n",
    "    sns.lineplot(x=dates, y=df['ctr']*100, ax=ax3)\n",
    "    sns.lineplot(x=dates, y=df['dau'], ax=ax4)\n",
    "    \n",
    "    ax1.set(xlabel=None)\n",
    "    ax2.set(xlabel=None)\n",
    "    ax3.set(xlabel=None)\n",
    "    \n",
    "    ax1.set_ylabel('Views')\n",
    "    ax2.set_ylabel('Likes')\n",
    "    ax3.set_ylabel('CTR (%)')\n",
    "    ax4.set_ylabel('DAU')\n",
    "    \n",
    "    ax4.set_xlabel('Дата')\n",
    "    \n",
    "    fig.suptitle(f\"Оновные метрики за {start} - {yesterday_f}\")\n",
    "    fig.tight_layout()\n",
    "    \n",
    "    plot_object = io.BytesIO()\n",
    "    plt.savefig(plot_object)\n",
    "    plot_object.seek(0)\n",
    "    plot_object.name = 'plot.png'\n",
    "    plt.close()\n",
    "       \n",
    "    return plot_object\n",
    "\n",
    "plot_report(df)  "
   ]
  },
  {
   "cell_type": "code",
   "execution_count": 41,
   "id": "7665cefd-e076-4080-b42f-b980aef999a7",
   "metadata": {},
   "outputs": [],
   "source": [
    "def send_report(message, plot_object):\n",
    "    \n",
    "    my_token = '***' \n",
    "    bot = telegram.Bot(token=my_token) \n",
    "    chat_id = ***\n",
    "    \n",
    "    bot.sendMessage(chat_id=chat_id, text=message)\n",
    "    bot.sendPhoto(chat_id=chat_id, photo=plot_object)\n",
    "    "
   ]
  },
  {
   "cell_type": "code",
   "execution_count": 49,
   "id": "d4489390-8e5d-43c6-9a0c-b30d2a754c6f",
   "metadata": {},
   "outputs": [],
   "source": [
    "message = get_message(df)\n",
    "plot_object = plot_report(df)\n",
    "send_report(message, plot_object)"
   ]
  },
  {
   "cell_type": "code",
   "execution_count": null,
   "id": "292e0816-7c55-4879-9f21-35c3ec841e96",
   "metadata": {},
   "outputs": [],
   "source": []
  }
 ],
 "metadata": {
  "kernelspec": {
   "display_name": "Python 3 (ipykernel)",
   "language": "python",
   "name": "python3"
  },
  "language_info": {
   "codemirror_mode": {
    "name": "ipython",
    "version": 3
   },
   "file_extension": ".py",
   "mimetype": "text/x-python",
   "name": "python",
   "nbconvert_exporter": "python",
   "pygments_lexer": "ipython3",
   "version": "3.8.10"
  }
 },
 "nbformat": 4,
 "nbformat_minor": 5
}
